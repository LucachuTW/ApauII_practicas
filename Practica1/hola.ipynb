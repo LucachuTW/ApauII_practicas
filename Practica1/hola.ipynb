{
 "cells": [
  {
   "cell_type": "markdown",
   "metadata": {
    "id": "iJJzeg-DAx6G"
   },
   "source": [
    "# K-Means\n",
    "\n"
   ]
  },
  {
   "cell_type": "markdown",
   "metadata": {
    "id": "v_RS1s3CClux"
   },
   "source": [
    "O algoritmo K-Means procura un número predeterminado de *clusters* (K) nun dataset multidimensional sen etiquetas. Cada observación debe pertencer a un *cluster*, e está fundamentado en:\n",
    "\n",
    "*   Cada *cluster* ten un centro (*centroide*) que resulta da media aritmética de todos os puntos do *cluster*.\n",
    "*   Cada punto do *cluster* debe estar máis cerca do seu centroide que a centroides dos outros *clusters*.\n",
    "\n",
    "Estas asuncións constitúen a base do modelo K-Means."
   ]
  },
  {
   "cell_type": "markdown",
   "metadata": {},
   "source": [
    "## Dependencias"
   ]
  },
  {
   "cell_type": "code",
   "execution_count": null,
   "metadata": {},
   "outputs": [],
   "source": [
    "!pip install matplotlib scikit-learn numpy"
   ]
  },
  {
   "cell_type": "code",
   "execution_count": null,
   "metadata": {
    "id": "qJq_NUXpEoFz"
   },
   "outputs": [],
   "source": [
    "%matplotlib inline\n",
    "import matplotlib.pyplot as plt\n",
    "import numpy as np"
   ]
  },
  {
   "cell_type": "markdown",
   "metadata": {
    "id": "fIzxZfIHTRn5"
   },
   "source": [
    "## Dataset"
   ]
  },
  {
   "cell_type": "markdown",
   "metadata": {
    "id": "mcoVMC1vEF_r"
   },
   "source": [
    "Partimos dun dataset sintético de dúas dimensións. Usamos `make_blobs()` para xerar 300 observacións aleatorias en torno a catro centros e cunha dispersión baixa (`cluster_std`).\n"
   ]
  },
  {
   "cell_type": "code",
   "execution_count": null,
   "metadata": {
    "id": "44lWDGY6Ao0F"
   },
   "outputs": [],
   "source": [
    "from sklearn.datasets import make_blobs\n",
    "\n",
    "X, y_true = make_blobs(n_samples=300, centers=4, cluster_std=0.60, random_state=0)"
   ]
  },
  {
   "cell_type": "code",
   "execution_count": null,
   "metadata": {
    "id": "Hp2GbRckaa34"
   },
   "outputs": [],
   "source": [
    "X.shape"
   ]
  },
  {
   "cell_type": "markdown",
   "metadata": {
    "id": "gVJYyPxNAV8Y"
   },
   "source": [
    "Mediante `matplotlib` visualizamos os nosos datos producindo un *scatter plot*."
   ]
  },
  {
   "cell_type": "code",
   "execution_count": null,
   "metadata": {
    "id": "X1DnfFndE0Ga"
   },
   "outputs": [],
   "source": [
    "plt.scatter(X[:, 0], X[:, 1], s=10)\n",
    "plt.xlabel(\"Eixo X\")\n",
    "plt.ylabel(\"Eixo Y\")\n",
    "plt.title(\"Dataset sintético de mostra\")\n",
    "plt.show()"
   ]
  },
  {
   "cell_type": "markdown",
   "metadata": {
    "id": "hCLp8McLq6zL"
   },
   "source": [
    "* `s`: determina o tamaño dos puntos na gráfica\n",
    "\n",
    "https://matplotlib.org/stable/api/_as_gen/matplotlib.pyplot.scatter.html"
   ]
  },
  {
   "cell_type": "markdown",
   "metadata": {
    "id": "jffyBhrOeBhS"
   },
   "source": [
    "## Escolla de *k*"
   ]
  },
  {
   "cell_type": "markdown",
   "metadata": {
    "id": "_VuYCSdNpxQx"
   },
   "source": [
    "### Método do cóbado (*elbow method*)"
   ]
  },
  {
   "cell_type": "markdown",
   "metadata": {
    "id": "IIoDihc1gaOm"
   },
   "source": [
    "Para estimar un valor optimo para *k* podemos usar o método do cóbado, que consiste en calcular a SSE (*Sum of Squared Errors*) para diferentes valores de *k*. O obxectivo é encontrar o punto onde a diminución do erro comeza a ser menos pronunciada, formando un ángulo semellante a un cóbado. Este punto marca o equilibrio entre complexidade e precisión do modelo, indicando un valor axeitado para *k*.\n",
    "\n",
    "En `scikit-learn`, o cálculo de SSE gárdase no atributo `inertia_` do obxecto `KMeans`, despois de axustar o modelo."
   ]
  },
  {
   "cell_type": "code",
   "execution_count": null,
   "metadata": {
    "id": "cn0YIoJfeEdW"
   },
   "outputs": [],
   "source": [
    "from sklearn.cluster import KMeans\n",
    "\n",
    "sse = []\n",
    "\n",
    "for k in range(2, 11):\n",
    "  kmeans2 = KMeans(n_clusters=k, random_state=0)\n",
    "  kmeans2.fit(X)\n",
    "  sse.append(kmeans2.inertia_)"
   ]
  },
  {
   "cell_type": "markdown",
   "metadata": {
    "id": "KQd92VsnhstO"
   },
   "source": [
    "Unha vez calculados os valores de SSE para *k* entre 1 e 10, podemos visualizalo nun gráfico para ver en que punto a diminución do erro se estabiliza."
   ]
  },
  {
   "cell_type": "code",
   "execution_count": null,
   "metadata": {
    "id": "pYEI2qKBedfg"
   },
   "outputs": [],
   "source": [
    "plt.figure(figsize=(8, 6))\n",
    "plt.plot(range(2, 11), sse, marker='o')\n",
    "plt.title('Método do cóbado')\n",
    "plt.xlabel('Número de clusters (k)')\n",
    "plt.ylabel('Inertia ou SSE')\n",
    "plt.show()\n"
   ]
  },
  {
   "cell_type": "markdown",
   "metadata": {
    "id": "p5foB4hYs9oW"
   },
   "source": [
    "Outra alternativa é usar o paquete `kneed`de Python.\n",
    "\n",
    "https://kneed.readthedocs.io/en/stable/\n",
    "\n",
    "\n"
   ]
  },
  {
   "cell_type": "code",
   "execution_count": null,
   "metadata": {
    "id": "wK2WWALzs-RD"
   },
   "outputs": [],
   "source": [
    "!pip install kneed"
   ]
  },
  {
   "cell_type": "code",
   "execution_count": null,
   "metadata": {
    "id": "KEhun0kvtGfR"
   },
   "outputs": [],
   "source": [
    "from kneed import KneeLocator\n",
    "\n",
    "kl = KneeLocator(range(2, 11), sse, curve=\"convex\", direction=\"decreasing\")"
   ]
  },
  {
   "cell_type": "code",
   "execution_count": null,
   "metadata": {
    "id": "2acGuDCDtRTH"
   },
   "outputs": [],
   "source": [
    "kl.elbow"
   ]
  },
  {
   "cell_type": "markdown",
   "metadata": {
    "id": "mBlMGTNgp4Gf"
   },
   "source": [
    "### *Silhouette Score*"
   ]
  },
  {
   "cell_type": "code",
   "execution_count": null,
   "metadata": {
    "id": "oHcnUPcae1kA"
   },
   "outputs": [],
   "source": [
    "from sklearn.metrics import silhouette_score\n",
    "\n",
    "silhouette_coefficients = []\n",
    "\n",
    "for k in range(2, 11):\n",
    "     kmeans3 = KMeans(n_clusters=k)\n",
    "     kmeans3.fit(X)\n",
    "     score = silhouette_score(X, kmeans3.labels_)\n",
    "     silhouette_coefficients.append(score)\n",
    "\n"
   ]
  },
  {
   "cell_type": "code",
   "execution_count": null,
   "metadata": {
    "id": "ZHG423dXpCJW"
   },
   "outputs": [],
   "source": [
    "plt.figure(figsize=(8, 6))\n",
    "plt.plot(range(2, 11), silhouette_coefficients, marker='o')\n",
    "plt.title('Silhouette Score')\n",
    "plt.xlabel('Número de clusters (k)')\n",
    "plt.ylabel('Silhouette')\n",
    "plt.show()\n"
   ]
  },
  {
   "cell_type": "markdown",
   "metadata": {
    "id": "7Mlagt-sqK54"
   },
   "source": [
    "## Modelo"
   ]
  },
  {
   "cell_type": "markdown",
   "metadata": {
    "id": "I592howhPwb6"
   },
   "source": [
    "Na gráfica puidemos observar que os datos parecen estar distribuídos en catro grupos, e os métodos empregados para estimar *k* confirman esta observación, así que lanzamos K-Means con *k* = 4."
   ]
  },
  {
   "cell_type": "code",
   "execution_count": null,
   "metadata": {
    "id": "KB6phOuhPuks"
   },
   "outputs": [],
   "source": [
    "# Crea un modelo de K-Means con 4 clusters\n",
    "kmeans = KMeans(n_clusters=4)\n",
    "\n",
    "# Axustamos o modelo\n",
    "kmeans.fit(X)\n",
    "\n",
    "# Produce a saída etiquetada\n",
    "y_kmeans = kmeans.predict(X)\n",
    "\n",
    "# Con fit_predict() podemos facer todo xunto\n",
    "# y_kmeans = kmeans.fit_predict(X)\n",
    "#\n",
    "# Podemos acceder ás etiquetas sen chamar a predict(), mediante kmeans.labels_\n",
    "# kmeans.labels_"
   ]
  },
  {
   "cell_type": "code",
   "execution_count": null,
   "metadata": {
    "id": "VQjt2BKcRTpQ"
   },
   "outputs": [],
   "source": [
    "for i in range(5):\n",
    "  print(f'Punto {i}: {X[i]} no cluster {y_kmeans[i]}')\n",
    "\n",
    "np.unique(y_kmeans, return_counts=True)"
   ]
  },
  {
   "cell_type": "markdown",
   "metadata": {
    "id": "aCFSL1zXrEAx"
   },
   "source": [
    "## Resultados"
   ]
  },
  {
   "cell_type": "markdown",
   "metadata": {
    "id": "WBHlqvD8QKr0"
   },
   "source": [
    "Volvemos xerar unha gráfica de dispersión, agora xa con cada *cluster* nunha cor diferente e marcando tamén os centroides.\n",
    "\n",
    "* `c`: secuencia de números coas etiquetas dos *clusters*, que son mapeados a cores usando cmap\n",
    "* `s`: determina o tamaño dos puntos na gráfica\n",
    "* `cmap`: mapa de cores\n",
    "* `marker`: marcador usado para pintar as observacións\n",
    "\n",
    "https://matplotlib.org/stable/api/_as_gen/matplotlib.pyplot.scatter.html"
   ]
  },
  {
   "cell_type": "code",
   "execution_count": null,
   "metadata": {
    "id": "5pW4VUkvPvUp"
   },
   "outputs": [],
   "source": [
    "plt.scatter(X[:, 0], X[:, 1], c=y_kmeans, s=10, cmap='viridis')\n",
    "\n",
    "centers = kmeans.cluster_centers_\n",
    "plt.scatter(centers[:, 0], centers[:, 1], c='red', s=200, marker='x')"
   ]
  },
  {
   "cell_type": "code",
   "execution_count": null,
   "metadata": {
    "id": "ixlSzuAYQZqQ"
   },
   "outputs": [],
   "source": [
    "centers"
   ]
  },
  {
   "cell_type": "markdown",
   "metadata": {
    "id": "_z5QuFOGu6Af"
   },
   "source": [
    "## Número *k* non óptimo"
   ]
  },
  {
   "cell_type": "markdown",
   "metadata": {
    "id": "Lk6Ch5UgvBn-"
   },
   "source": [
    "Un dos desafíos coñecidos de K-Means é a necesidade de especificar previamente o número de clusters que queremos obter, xa que o algoritmo non pode determinalo automaticamente a partir dos datos. Se escollemos un valor que non se axusta á estrutura real dos datos, os resultados poden ser pouco representativos ou mesmo enganosos.\n",
    "\n",
    "Por exemplo, se os datos teñen unha estrutura natural de 4 *clusters*, pero escollemos *k* = 7, o algoritmo dividirá artificialmente os grupos existentes, producindo *clusters* menos interpretables."
   ]
  },
  {
   "cell_type": "code",
   "execution_count": null,
   "metadata": {
    "id": "36J8g43evz8K"
   },
   "outputs": [],
   "source": [
    "labels = KMeans(7, random_state=0).fit_predict(X)\n",
    "plt.scatter(X[:, 0], X[:, 1], c=labels, s=50, cmap='managua')"
   ]
  }
 ],
 "metadata": {
  "colab": {
   "provenance": [],
   "toc_visible": true
  },
  "kernelspec": {
   "display_name": "Python 3 (ipykernel)",
   "language": "python",
   "name": "python3"
  },
  "language_info": {
   "codemirror_mode": {
    "name": "ipython",
    "version": 3
   },
   "file_extension": ".py",
   "mimetype": "text/x-python",
   "name": "python",
   "nbconvert_exporter": "python",
   "pygments_lexer": "ipython3",
   "version": "3.12.8"
  }
 },
 "nbformat": 4,
 "nbformat_minor": 4
}
